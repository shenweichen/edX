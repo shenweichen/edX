{
 "cells": [
  {
   "cell_type": "markdown",
   "metadata": {},
   "source": [
    "# Bias and Variance "
   ]
  },
  {
   "cell_type": "code",
   "execution_count": 1,
   "metadata": {
    "collapsed": true
   },
   "outputs": [],
   "source": [
    "import random\n",
    "import numpy as np\n",
    "import matplotlib.pyplot as plt\n",
    "from math import sin\n",
    "from math import radians\n",
    "%matplotlib inline"
   ]
  },
  {
   "cell_type": "markdown",
   "metadata": {},
   "source": [
    "## Question 4"
   ]
  },
  {
   "cell_type": "markdown",
   "metadata": {},
   "source": [
    "$ E_D[(g^{D}(x)-f(x))^2] $  \n",
    "define $\\bar{g}(x) = E_D[g^{D}(x)]$  \n",
    "for many data sets $D_1,D_2,...,D_k$  \n",
    "$ \\bar{g}(x)\\approx \\frac{1}{K} \\sum_{k=1}^K g^{D_k}(x) $  "
   ]
  },
  {
   "cell_type": "code",
   "execution_count": 2,
   "metadata": {
    "collapsed": true
   },
   "outputs": [],
   "source": [
    "def f(x):\n",
    "    return sin(radians(180*x))"
   ]
  },
  {
   "cell_type": "code",
   "execution_count": 3,
   "metadata": {
    "collapsed": true
   },
   "outputs": [],
   "source": [
    "def compute_a_D(x_1,x_2):\n",
    "    #(f(x_1)-f(x_2))/(x_1-x_2) 直接用过两点的直线不可以，因为这样就假设了数据是线性分布。若每次抽样3个点，则肯定不行\n",
    "    return (f(x_1)*x_1+f(x_2)*x_2)/(x_1**2 + x_2**2)"
   ]
  },
  {
   "cell_type": "code",
   "execution_count": 4,
   "metadata": {
    "collapsed": true
   },
   "outputs": [],
   "source": [
    "def compute_a_bar(K):\n",
    "    a_bar = 0\n",
    "    for i in range(0,K): \n",
    "        x_1 = random.uniform(-1,1)\n",
    "        x_2 = random.uniform(-1,1)\n",
    "        a_bar += compute_a_D(x_1,x_2)\n",
    "    return a_bar/K"
   ]
  },
  {
   "cell_type": "code",
   "execution_count": 5,
   "metadata": {
    "collapsed": false
   },
   "outputs": [
    {
     "name": "stdout",
     "output_type": "stream",
     "text": [
      "1.43045866067\n"
     ]
    }
   ],
   "source": [
    "a_bar = compute_a_bar(100000)\n",
    "print a_bar"
   ]
  },
  {
   "cell_type": "code",
   "execution_count": 6,
   "metadata": {
    "collapsed": false
   },
   "outputs": [
    {
     "data": {
      "text/plain": [
       "[<matplotlib.lines.Line2D at 0x2c849b0>,\n",
       " <matplotlib.lines.Line2D at 0x794cc50>]"
      ]
     },
     "execution_count": 6,
     "metadata": {},
     "output_type": "execute_result"
    },
    {
     "data": {
      "image/png": "[encoded data removed]",
      "text/plain": [
       "<matplotlib.figure.Figure at 0x77c3be0>"
      ]
     },
     "metadata": {},
     "output_type": "display_data"
    }
   ],
   "source": [
    "test = np.linspace(-1,1)\n",
    "plt.plot(test,map(f,test),'b',[-1,1],[-a_bar,a_bar],'r')"
   ]
  },
  {
   "cell_type": "markdown",
   "metadata": {},
   "source": [
    "## Question 5"
   ]
  },
  {
   "cell_type": "markdown",
   "metadata": {},
   "source": [
    "$ E_D[(g^{D}(x)-f(x))^2] = E_D[(g^{(D)}(x) - \\bar{g}(x))^2] + (\\bar{g}(x) - f(x))^2 = variance(x) + bias(x)$  \n",
    "$ bias =E_x(bias(x))= E_x((\\bar{g}(x) - f(x))^2) $  \n",
    "这里对x求期望，要使得x满足在-1，1上的均匀分布。可以均匀产生-1，1足够多的点，或者每次在-1，1之间选择一个点，重复多次"
   ]
  },
  {
   "cell_type": "code",
   "execution_count": 7,
   "metadata": {
    "collapsed": false
   },
   "outputs": [],
   "source": [
    "def bias(a,K):# With Dateset Irrelevant \n",
    "\n",
    "    bias = 0\n",
    "    #for x in np.linspace(-1,1,10000):\n",
    "     #   bias += (a*x - f(x))**2\n",
    "    for i in range(0,K): \n",
    "        x = random.uniform(-1,1)\n",
    "        bias += (a*x - f(x))**2\n",
    "    print bias/K"
   ]
  },
  {
   "cell_type": "code",
   "execution_count": 8,
   "metadata": {
    "collapsed": false
   },
   "outputs": [
    {
     "name": "stdout",
     "output_type": "stream",
     "text": [
      "0.276960352013\n"
     ]
    }
   ],
   "source": [
    "bias(a_bar,10000)"
   ]
  },
  {
   "cell_type": "markdown",
   "metadata": {},
   "source": [
    "## Question 5"
   ]
  },
  {
   "cell_type": "markdown",
   "metadata": {},
   "source": [
    "$ variance = E_x(var(x)) = E_x [E_D[(g^{(D)}(x) - \\bar{g}(x))^2] ]$"
   ]
  },
  {
   "cell_type": "code",
   "execution_count": 9,
   "metadata": {
    "collapsed": true
   },
   "outputs": [],
   "source": [
    "def variance(a,K):\n",
    "    var = 0\n",
    "    for i in range(0,K): \n",
    "        x_1 = random.uniform(-1,1)\n",
    "        x_2 = random.uniform(-1,1)\n",
    "        g_D = compute_a_D(x_1,x_2)\n",
    "        var += ((g_D*x_1 - a*x_1)**2 + (g_D*x_2 - a*x_2)**2)\n",
    "    print var/(K*2)"
   ]
  },
  {
   "cell_type": "code",
   "execution_count": 10,
   "metadata": {
    "collapsed": false
   },
   "outputs": [
    {
     "name": "stdout",
     "output_type": "stream",
     "text": [
      "0.204091518423\n"
     ]
    }
   ],
   "source": [
    "variance(a_bar,10000)"
   ]
  }
 ],
 "metadata": {
  "kernelspec": {
   "display_name": "Python [conda root]",
   "language": "python",
   "name": "conda-root-py"
  },
  "language_info": {
   "codemirror_mode": {
    "name": "ipython",
    "version": 2
   },
   "file_extension": ".py",
   "mimetype": "text/x-python",
   "name": "python",
   "nbconvert_exporter": "python",
   "pygments_lexer": "ipython2",
   "version": "2.7.12"
  }
 },
 "nbformat": 4,
 "nbformat_minor": 1
}
