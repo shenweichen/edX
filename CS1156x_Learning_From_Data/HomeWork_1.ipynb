{
 "cells": [
  {
   "cell_type": "markdown",
   "metadata": {},
   "source": [
    "# Bins and Marbles"
   ]
  },
  {
   "cell_type": "markdown",
   "metadata": {},
   "source": [
    "## Question 4"
   ]
  },
  {
   "cell_type": "markdown",
   "metadata": {},
   "source": [
    "$ P(\\nu=0)=(1-\\mu)^N $"
   ]
  },
  {
   "cell_type": "code",
   "execution_count": 1,
   "metadata": {
    "collapsed": false
   },
   "outputs": [
    {
     "name": "stdout",
     "output_type": "stream",
     "text": [
      "0.00034050628916\n"
     ]
    }
   ],
   "source": [
    "u=0.55;N=10\n",
    "p =(1-u)**N\n",
    "print p"
   ]
  },
  {
   "cell_type": "markdown",
   "metadata": {},
   "source": [
    "## Questiion 5"
   ]
  },
  {
   "cell_type": "markdown",
   "metadata": {},
   "source": [
    "$P(At\\ least\\ one\\ sample\\ has\\ \\nu =0 )=1 - P(All\\ samples\\ has\\ \\nu \\neq 0)=1-(1-P(\\nu=0))^T $ "
   ]
  },
  {
   "cell_type": "code",
   "execution_count": 2,
   "metadata": {
    "collapsed": false
   },
   "outputs": [
    {
     "name": "stdout",
     "output_type": "stream",
     "text": [
      "0.28863119785\n"
     ]
    }
   ],
   "source": [
    "T = 1000\n",
    "print 1 - (1-p)**T"
   ]
  },
  {
   "cell_type": "markdown",
   "metadata": {},
   "source": [
    "# The Perceptron Learning Algorithm "
   ]
  },
  {
   "cell_type": "code",
   "execution_count": 3,
   "metadata": {
    "collapsed": true
   },
   "outputs": [],
   "source": [
    "import numpy as np\n",
    "import matplotlib\n",
    "import matplotlib.pyplot as plt"
   ]
  },
  {
   "cell_type": "code",
   "execution_count": 4,
   "metadata": {
    "collapsed": false
   },
   "outputs": [],
   "source": [
    "WPLA = np.zeros(3)\n",
    "WF = np.array([0,0,-1],dtype=np.float)"
   ]
  },
  {
   "cell_type": "code",
   "execution_count": 5,
   "metadata": {
    "collapsed": true
   },
   "outputs": [],
   "source": [
    "def sign(x,w):\n",
    "    \"\"\"\n",
    "    x should be a np.array of shape(3L,)\n",
    "    \"\"\"\n",
    "    inproduct = np.dot(w,x) \n",
    "    if inproduct > 0:\n",
    "        return 1\n",
    "    elif inproduct < 0:\n",
    "        return -1\n",
    "    else:\n",
    "        return 0"
   ]
  },
  {
   "cell_type": "code",
   "execution_count": 6,
   "metadata": {
    "collapsed": true
   },
   "outputs": [],
   "source": [
    "def checkmistakes(data,label):\n",
    "    pred = np.dot(data,WPLA)\n",
    "    pred[pred>0]=1\n",
    "    pred[pred<0]=-1\n",
    "    pred[pred==0]=0\n",
    "    return (pred==label).all()"
   ]
  },
  {
   "cell_type": "code",
   "execution_count": 7,
   "metadata": {
    "collapsed": true
   },
   "outputs": [],
   "source": [
    "def PLA(data,label):\n",
    "    global WPLA\n",
    "    WPLA = np.zeros(3)\n",
    "    #初始化WPLA\n",
    "    numofdata = data.shape[0]\n",
    "    t = 0\n",
    "    while True:\n",
    "        for i in range(numofdata):\n",
    "            if sign(data[i],WPLA) != label[i]:\n",
    "                t+=1\n",
    "                WPLA += label[i]*data[i]\n",
    "        if checkmistakes(data,label):\n",
    "            return t"
   ]
  },
  {
   "cell_type": "code",
   "execution_count": 8,
   "metadata": {
    "collapsed": true
   },
   "outputs": [],
   "source": [
    "def line(x,w):\n",
    "    return (-w[0]-w[1]*x)/w[2]"
   ]
  },
  {
   "cell_type": "code",
   "execution_count": 9,
   "metadata": {
    "collapsed": true
   },
   "outputs": [],
   "source": [
    "def draw(data,label):\n",
    "    idx_1 = np.where(label==1)\n",
    "    p1 = plt.scatter(data[idx_1,0],data[idx_1,1],marker='o',color = 'g',label = '1',s = 30)\n",
    "\n",
    "    idx_2 = np.where(label==-1)\n",
    "    p2 = plt.scatter(data[idx_2,0],data[idx_2,1],marker='x',color = 'r',label = '-1',s = 30)\n",
    "\n",
    "    p3 = plt.plot([-1,1],line(np.array([-1,1]),WPLA),'b-',linewidth=2,label=\"WPLA\")\n",
    "    p4 = plt.plot([-1,1],line(np.array([-1,1]),WF),'r-.',linewidth=2,label=\"WF\")\n",
    "    plt.show()"
   ]
  },
  {
   "cell_type": "code",
   "execution_count": 10,
   "metadata": {
    "collapsed": true
   },
   "outputs": [],
   "source": [
    "def num_iterations(N,pic = False):\n",
    "    global WF\n",
    "    data = np.random.uniform(-1, 1, (N, 2))\n",
    "    data = np.insert(data,0,values = np.ones(N),axis=1)\n",
    "    #随机生成10个长度为3的数组\n",
    "    point = np.random.uniform(-1,1,(2,2))\n",
    "    k = (point[0][1] - point[1][1])/(point[0][0] - point[1][0])\n",
    "    b = point[0][1] - k*point[0][0]\n",
    "    WF = np.array([b,k,-1],dtype=np.float)\n",
    "    #随机生成一条直线\n",
    "    label = np.dot(data,WF)\n",
    "    label[label>0]=1\n",
    "    label[label<0]=-1\n",
    "    label[label==0]=0\n",
    "    iterations = PLA(data,label)\n",
    "    if pic:\n",
    "        draw(data,label)\n",
    "    return iterations"
   ]
  },
  {
   "cell_type": "code",
   "execution_count": 11,
   "metadata": {
    "collapsed": false
   },
   "outputs": [
    {
     "name": "stderr",
     "output_type": "stream",
     "text": [
      "<ipython-input-11-6bdbce636b13>:11: SyntaxWarning: name 'WF' is assigned to before global declaration\n",
      "  global WF\n"
     ]
    }
   ],
   "source": [
    "def prob_disagreement(N,pic = False):\n",
    "    global WF\n",
    "    data = np.random.uniform(-1, 1, (N, 2))\n",
    "    data = np.insert(data,0,values = np.ones(N),axis=1)\n",
    "    #随机生成10个长度为3的数组\n",
    "    point = np.random.uniform(-1,1,(2,2))\n",
    "    k = (point[0][1] - point[1][1])/(point[0][0] - point[1][0])\n",
    "    b = point[0][1] - k*point[0][0]\n",
    "    WF = np.array([b,k,-1],dtype=np.float)\n",
    "    #随机生成一条直线def prob_disagreement(N,pic = False):\n",
    "    global WF\n",
    "    data = np.random.uniform(-1, 1, (N, 2))\n",
    "    data = np.insert(data,0,values = np.ones(N),axis=1)\n",
    "    #随机生成10个长度为3的数组\n",
    "    point = np.random.uniform(-1,1,(2,2))\n",
    "    k = (point[0][1] - point[1][1])/(point[0][0] - point[1][0])\n",
    "    b = point[0][1] - k*point[0][0]\n",
    "    WF = np.array([b,k,-1],dtype=np.float)\n",
    "    #随机生成一条直线\n",
    "    label = np.array( [ sign(item,WF) for item in data])\n",
    "\n",
    "    PLA(data,label)\n",
    "    if pic:\n",
    "        draw(data,label)\n",
    "    point = np.random.uniform(-1,1,(1,2))\n",
    "    point = np.insert(point,0,values=np.ones(1),axis=1)\n",
    "    if sign(point[0],WPLA)!=sign(point[0],WF):\n",
    "        return 1\n",
    "    else :\n",
    "        return 0\n",
    "    label = np.dot(data,WF)\n",
    "    label[label>0]=1\n",
    "    label[label<0]=-1\n",
    "    label[label==0]=0\n",
    "\n",
    "    PLA(data,label)\n",
    "    if pic:\n",
    "        draw(data,label)\n",
    "    point = np.random.uniform(-1,1,(1,2))\n",
    "    point = np.insert(point,0,values=np.ones(1),axis=1)\n",
    "    if sign(point[0],WPLA)!=sign(point[0],WF):\n",
    "        return 1\n",
    "    else :\n",
    "        return 0"
   ]
  },
  {
   "cell_type": "code",
   "execution_count": 12,
   "metadata": {
    "collapsed": true
   },
   "outputs": [],
   "source": [
    "def solve(N=10,isIter=True):\n",
    "    ans =0\n",
    "    for dummy in range(1000):\n",
    "        if isIter:\n",
    "            ans +=num_iterations(N)\n",
    "        else:\n",
    "            ans +=prob_disagreement(N)\n",
    "    return ans/float(1000)"
   ]
  },
  {
   "cell_type": "markdown",
   "metadata": {},
   "source": [
    "## Question 7"
   ]
  },
  {
   "cell_type": "code",
   "execution_count": 13,
   "metadata": {
    "collapsed": false
   },
   "outputs": [
    {
     "data": {
      "text/plain": [
       "11.435"
      ]
     },
     "execution_count": 13,
     "metadata": {},
     "output_type": "execute_result"
    }
   ],
   "source": [
    "solve(10,True)"
   ]
  },
  {
   "cell_type": "markdown",
   "metadata": {},
   "source": [
    "## Quesion 8"
   ]
  },
  {
   "cell_type": "code",
   "execution_count": 14,
   "metadata": {
    "collapsed": false
   },
   "outputs": [
    {
     "data": {
      "text/plain": [
       "0.101"
      ]
     },
     "execution_count": 14,
     "metadata": {},
     "output_type": "execute_result"
    }
   ],
   "source": [
    "solve(10,False)"
   ]
  },
  {
   "cell_type": "markdown",
   "metadata": {},
   "source": [
    "## Question 9"
   ]
  },
  {
   "cell_type": "code",
   "execution_count": 15,
   "metadata": {
    "collapsed": false
   },
   "outputs": [
    {
     "data": {
      "text/plain": [
       "134.343"
      ]
     },
     "execution_count": 15,
     "metadata": {},
     "output_type": "execute_result"
    }
   ],
   "source": [
    "solve(100,True)"
   ]
  },
  {
   "cell_type": "markdown",
   "metadata": {},
   "source": [
    "## Question 10"
   ]
  },
  {
   "cell_type": "code",
   "execution_count": 16,
   "metadata": {
    "collapsed": false
   },
   "outputs": [
    {
     "data": {
      "text/plain": [
       "0.015"
      ]
     },
     "execution_count": 16,
     "metadata": {},
     "output_type": "execute_result"
    }
   ],
   "source": [
    "solve(100,False)"
   ]
  }
 ],
 "metadata": {
  "kernelspec": {
   "display_name": "Python [default]",
   "language": "python",
   "name": "python2"
  },
  "language_info": {
   "codemirror_mode": {
    "name": "ipython",
    "version": 2
   },
   "file_extension": ".py",
   "mimetype": "text/x-python",
   "name": "python",
   "nbconvert_exporter": "python",
   "pygments_lexer": "ipython2",
   "version": "2.7.12"
  }
 },
 "nbformat": 4,
 "nbformat_minor": 0
}
