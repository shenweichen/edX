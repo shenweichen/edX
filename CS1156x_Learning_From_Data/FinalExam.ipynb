{
 "cells": [
  {
   "cell_type": "markdown",
   "metadata": {},
   "source": [
    "# Nonlinear transfrom\n",
    "## Question 1"
   ]
  },
  {
   "cell_type": "code",
   "execution_count": 1,
   "metadata": {
    "collapsed": true
   },
   "outputs": [],
   "source": [
    "def Nonlinear_transfrom(Q):\n",
    "    x = ['1','x1','x2']\n",
    "    for q in range(2,Q+1):\n",
    "        for i in range(q,-1,-1):\n",
    "            term = 'x1^'+str(i)+'x2^'+str(q-i)\n",
    "            x.append(term)\n",
    "    return x"
   ]
  },
  {
   "cell_type": "code",
   "execution_count": 2,
   "metadata": {
    "collapsed": false
   },
   "outputs": [
    {
     "name": "stdout",
     "output_type": "stream",
     "text": [
      "65\n"
     ]
    }
   ],
   "source": [
    "z = Nonlinear_transfrom(10)\n",
    "print len(z)-1"
   ]
  },
  {
   "cell_type": "markdown",
   "metadata": {},
   "source": [
    "# Bias and Variance\n",
    "## Question 2  \n",
    "the average of logistic regression models cannot be represented by  one logistic regression model "
   ]
  },
  {
   "cell_type": "markdown",
   "metadata": {},
   "source": [
    "# Overfitting\n",
    "## Question 3  \n",
    "E_out - E_in is always getting larger?"
   ]
  },
  {
   "cell_type": "markdown",
   "metadata": {},
   "source": [
    "## Question 4  \n",
    "确定性误差和随机误差"
   ]
  },
  {
   "cell_type": "markdown",
   "metadata": {},
   "source": [
    "# Regularization\n",
    "## Question 6  \n",
    "soft and hard order constraints not so understand"
   ]
  },
  {
   "cell_type": "markdown",
   "metadata": {},
   "source": [
    "# Regularized Linear Regression\n",
    "## Question 7"
   ]
  },
  {
   "cell_type": "code",
   "execution_count": 3,
   "metadata": {
    "collapsed": false
   },
   "outputs": [],
   "source": [
    "import pandas as pd\n",
    "import numpy as np\n",
    "from sklearn.metrics import zero_one_loss"
   ]
  },
  {
   "cell_type": "code",
   "execution_count": 4,
   "metadata": {
    "collapsed": true
   },
   "outputs": [],
   "source": [
    "def addoneversusall(data):\n",
    "    data['constant'] = 1\n",
    "    for i in range(0,10):\n",
    "        feature_name = str(i)\n",
    "        data[feature_name]=data['digit'].apply(lambda x : 1 if x==i else -1)\n",
    "    return data"
   ]
  },
  {
   "cell_type": "code",
   "execution_count": 5,
   "metadata": {
    "collapsed": true
   },
   "outputs": [],
   "source": [
    "def regularized_reg(X,y,a):\n",
    "    n = (X.T*X).shape[0]\n",
    "    return np.linalg.inv(X.T*X + a*np.identity(n))*X.T*y"
   ]
  },
  {
   "cell_type": "code",
   "execution_count": 6,
   "metadata": {
    "collapsed": false
   },
   "outputs": [],
   "source": [
    "def evaluate_Ein(data,features,labels,a):\n",
    "    train_data = np.matrix(data[features])\n",
    "    E_in = []\n",
    "    for label in labels:\n",
    "        true_label = np.matrix(data[label]).T\n",
    "        W = regularized_reg(train_data,true_label,a)\n",
    "        pred = train_data*W\n",
    "        pred[pred>=0]=1\n",
    "        pred[pred<0]=-1\n",
    "        loss = zero_one_loss(pred,true_label) \n",
    "        print label,'E_in',loss\n",
    "        E_in.append(loss)\n",
    "    return E_in"
   ]
  },
  {
   "cell_type": "code",
   "execution_count": 7,
   "metadata": {
    "collapsed": false
   },
   "outputs": [
    {
     "name": "stdout",
     "output_type": "stream",
     "text": [
      "5 E_in 0.0762584007681\n",
      "6 E_in 0.0910711836511\n",
      "7 E_in 0.0884652311068\n",
      "8 E_in 0.0743382252092\n",
      "9 E_in 0.0883280757098\n"
     ]
    },
    {
     "data": {
      "text/plain": [
       "[0.076258400768070222,\n",
       " 0.091071183651076693,\n",
       " 0.088465231106844011,\n",
       " 0.074338225209162001,\n",
       " 0.088328075709779186]"
      ]
     },
     "execution_count": 7,
     "metadata": {},
     "output_type": "execute_result"
    }
   ],
   "source": [
    "train = pd.read_csv('features.train',sep='\\s+',names=['digit','intensity','symmetry'])\n",
    "train = addoneversusall(train)\n",
    "features = ['intensity','symmetry','constant']\n",
    "labels = ['5','6','7','8','9']\n",
    "a = 1\n",
    "evaluate_Ein(train,features,labels,a)"
   ]
  },
  {
   "cell_type": "markdown",
   "metadata": {},
   "source": [
    "## Question 8"
   ]
  },
  {
   "cell_type": "code",
   "execution_count": 8,
   "metadata": {
    "collapsed": true
   },
   "outputs": [],
   "source": [
    "def add_nonlinear_trans(train,Q):\n",
    "    features = features = ['intensity','symmetry','constant']\n",
    "    train['constant'] = 1\n",
    "    for q in range(2,Q+1):\n",
    "        for i in range(q,-1,-1):\n",
    "            term = 'intensity^'+str(i)+'symmetry^'+str(q-i)\n",
    "            features.append(term)\n",
    "            train[term] = (train['intensity']**i)*(train['symmetry']**(q-i))\n",
    "    return train,features"
   ]
  },
  {
   "cell_type": "code",
   "execution_count": 9,
   "metadata": {
    "collapsed": true
   },
   "outputs": [],
   "source": [
    "def evaluate_Eout(Train,Test,features,labels,a):\n",
    "    train_data = np.matrix(Train[features])\n",
    "    test_data = np.matrix(Test[features])\n",
    "    E_out = []\n",
    "    for label in labels:\n",
    "        train_label = np.matrix(Train[label]).T\n",
    "        test_label = np.matrix(Test[label]).T\n",
    "        W = regularized_reg(train_data,train_label,a)\n",
    "        pred = test_data*W\n",
    "        pred[pred>=0]=1\n",
    "        pred[pred<0]=-1\n",
    "        loss = zero_one_loss(pred,test_label)\n",
    "        print label,'E_out',loss\n",
    "        E_out.append(loss)\n",
    "    return E_out"
   ]
  },
  {
   "cell_type": "code",
   "execution_count": 10,
   "metadata": {
    "collapsed": false
   },
   "outputs": [
    {
     "name": "stdout",
     "output_type": "stream",
     "text": [
      "0 E_out 0.106626806178\n",
      "1 E_out 0.02192326856\n",
      "2 E_out 0.0986547085202\n",
      "3 E_out 0.0827105132038\n",
      "4 E_out 0.0996512207275\n"
     ]
    },
    {
     "data": {
      "text/plain": [
       "[0.10662680617837572,\n",
       " 0.021923268560039899,\n",
       " 0.098654708520179324,\n",
       " 0.082710513203786751,\n",
       " 0.099651220727453915]"
      ]
     },
     "execution_count": 10,
     "metadata": {},
     "output_type": "execute_result"
    }
   ],
   "source": [
    "train = pd.read_csv('features.train',sep='\\s+',names=['digit','intensity','symmetry'])\n",
    "test= pd.read_csv('features.test',sep='\\s+',names=['digit','intensity','symmetry'])\n",
    "train = addoneversusall(train)\n",
    "test = addoneversusall(test)\n",
    "train,features = add_nonlinear_trans(train,2)\n",
    "test,features = add_nonlinear_trans(test,2)\n",
    "labels = ['0','1','2','3','4']\n",
    "a = 1\n",
    "evaluate_Eout(train,test,features,labels,a)"
   ]
  },
  {
   "cell_type": "markdown",
   "metadata": {},
   "source": [
    "## Question 9"
   ]
  },
  {
   "cell_type": "code",
   "execution_count": 11,
   "metadata": {
    "collapsed": true
   },
   "outputs": [],
   "source": [
    "import matplotlib.pyplot as plt\n",
    "%matplotlib inline"
   ]
  },
  {
   "cell_type": "code",
   "execution_count": 12,
   "metadata": {
    "collapsed": false
   },
   "outputs": [
    {
     "name": "stdout",
     "output_type": "stream",
     "text": [
      "not use transform\n",
      "0 E_in 0.109312851461\n",
      "1 E_in 0.0152242490742\n",
      "2 E_in 0.100260595254\n",
      "3 E_in 0.0902482512687\n",
      "4 E_in 0.0894253188863\n",
      "5 E_in 0.0762584007681\n",
      "6 E_in 0.0910711836511\n",
      "7 E_in 0.0884652311068\n",
      "8 E_in 0.0743382252092\n",
      "9 E_in 0.0883280757098\n",
      "0 E_out 0.11509715994\n",
      "1 E_out 0.0224215246637\n",
      "2 E_out 0.0986547085202\n",
      "3 E_out 0.0827105132038\n",
      "4 E_out 0.0996512207275\n",
      "5 E_out 0.079720976582\n",
      "6 E_out 0.0847035376183\n",
      "7 E_out 0.0732436472347\n",
      "8 E_out 0.0827105132038\n",
      "9 E_out 0.0881913303438\n"
     ]
    }
   ],
   "source": [
    "train = pd.read_csv('features.train',sep='\\s+',names=['digit','intensity','symmetry'])\n",
    "test = pd.read_csv('features.test',sep='\\s+',names=['digit','intensity','symmetry'])\n",
    "# not using transform\n",
    "print 'not use transform'\n",
    "train = pd.read_csv('features.train',sep='\\s+',names=['digit','intensity','symmetry'])\n",
    "train = addoneversusall(train)\n",
    "test = addoneversusall(test)\n",
    "features = ['intensity','symmetry','constant']\n",
    "labels = ['0','1','2','3','4','5','6','7','8','9']\n",
    "a = 1\n",
    "E_in = evaluate_Ein(train,features,labels,a)\n",
    "E_out = evaluate_Eout(train,test,features,labels,a)"
   ]
  },
  {
   "cell_type": "code",
   "execution_count": 13,
   "metadata": {
    "collapsed": false
   },
   "outputs": [
    {
     "name": "stdout",
     "output_type": "stream",
     "text": [
      "use transform\n",
      "0 E_in 0.10231792621\n",
      "1 E_in 0.0123439857358\n",
      "2 E_in 0.100260595254\n",
      "3 E_in 0.0902482512687\n",
      "4 E_in 0.0894253188863\n",
      "5 E_in 0.0762584007681\n",
      "6 E_in 0.0910711836511\n",
      "7 E_in 0.0884652311068\n",
      "8 E_in 0.0743382252092\n",
      "9 E_in 0.0883280757098\n",
      "0 E_out 0.106626806178\n",
      "1 E_out 0.02192326856\n",
      "2 E_out 0.0986547085202\n",
      "3 E_out 0.0827105132038\n",
      "4 E_out 0.0996512207275\n",
      "5 E_out 0.0792227204783\n",
      "6 E_out 0.0847035376183\n",
      "7 E_out 0.0732436472347\n",
      "8 E_out 0.0827105132038\n",
      "9 E_out 0.0881913303438\n"
     ]
    },
    {
     "name": "stderr",
     "output_type": "stream",
     "text": [
      "D:\\Anaconda2\\lib\\site-packages\\ipykernel\\__main__.py:2: ParserWarning: Falling back to the 'python' engine because the 'c' engine does not support regex separators (separators > 1 char and different from '\\s+' are interpreted as regex); you can avoid this warning by specifying engine='python'.\n",
      "  from ipykernel import kernelapp as app\n",
      "D:\\Anaconda2\\lib\\site-packages\\ipykernel\\__main__.py:3: ParserWarning: Falling back to the 'python' engine because the 'c' engine does not support regex separators (separators > 1 char and different from '\\s+' are interpreted as regex); you can avoid this warning by specifying engine='python'.\n",
      "  app.launch_new_instance()\n"
     ]
    }
   ],
   "source": [
    "print 'use transform'\n",
    "train = pd.read_csv('features.train',sep='  ',names=['digit','intensity','symmetry'])\n",
    "test = pd.read_csv('features.test',sep='  ',names=['digit','intensity','symmetry'])\n",
    "train = addoneversusall(train)\n",
    "test = addoneversusall(test)\n",
    "train,features = add_nonlinear_trans(train,2)\n",
    "test,features = add_nonlinear_trans(test,2)\n",
    "labels = ['0','1','2','3','4','5','6','7','8','9']\n",
    "a = 1\n",
    "E_in_trans = evaluate_Ein(train,features,labels,a)\n",
    "E_out_trans = evaluate_Eout(train,test,features,labels,a)"
   ]
  },
  {
   "cell_type": "code",
   "execution_count": 14,
   "metadata": {
    "collapsed": false
   },
   "outputs": [
    {
     "data": {
      "text/plain": [
       "<matplotlib.legend.Legend at 0xcc07b38>"
      ]
     },
     "execution_count": 14,
     "metadata": {},
     "output_type": "execute_result"
    },
    {
     "data": {
      "image/png": "[encoded data removed]",
      "text/plain": [
       "<matplotlib.figure.Figure at 0xb0dd0b8>"
      ]
     },
     "metadata": {},
     "output_type": "display_data"
    }
   ],
   "source": [
    "fig = plt.figure(figsize=(5,5))\n",
    "ax = fig.add_subplot(111)\n",
    "#Ein = ax.plot(range(0,10),E_in,'bs--',label = 'E_in')\n",
    "Eout = ax.plot(range(0,10),E_out,'r^--',label = 'E_out')\n",
    "#Ein_trans = ax.plot(range(0,10),E_in_trans,'cs-',label = 'E_in_trans')\n",
    "Eout_trans = ax.plot(range(0,10),E_out_trans,'g^-',label = 'E_out_trans')\n",
    "plt.legend(loc='lower right')"
   ]
  },
  {
   "cell_type": "code",
   "execution_count": 15,
   "metadata": {
    "collapsed": false
   },
   "outputs": [
    {
     "data": {
      "text/plain": [
       "True"
      ]
     },
     "execution_count": 15,
     "metadata": {},
     "output_type": "execute_result"
    }
   ],
   "source": [
    "E_out_trans[5] - E_out[5] < E_out[5]*0.05"
   ]
  },
  {
   "cell_type": "markdown",
   "metadata": {},
   "source": [
    "## Question 10"
   ]
  },
  {
   "cell_type": "code",
   "execution_count": 16,
   "metadata": {
    "collapsed": false
   },
   "outputs": [],
   "source": [
    "train = pd.read_csv('features.train',sep='\\s+',names=['digit','intensity','symmetry'])\n",
    "test = pd.read_csv('features.test',sep='\\s+',names=['digit','intensity','symmetry'])"
   ]
  },
  {
   "cell_type": "code",
   "execution_count": 17,
   "metadata": {
    "collapsed": false,
    "scrolled": true
   },
   "outputs": [
    {
     "name": "stderr",
     "output_type": "stream",
     "text": [
      "D:\\Anaconda2\\lib\\site-packages\\ipykernel\\__main__.py:2: SettingWithCopyWarning: \n",
      "A value is trying to be set on a copy of a slice from a DataFrame\n",
      "\n",
      "See the caveats in the documentation: http://pandas.pydata.org/pandas-docs/stable/indexing.html#indexing-view-versus-copy\n",
      "  from ipykernel import kernelapp as app\n",
      "D:\\Anaconda2\\lib\\site-packages\\ipykernel\\__main__.py:5: SettingWithCopyWarning: \n",
      "A value is trying to be set on a copy of a slice from a DataFrame\n",
      "\n",
      "See the caveats in the documentation: http://pandas.pydata.org/pandas-docs/stable/indexing.html#indexing-view-versus-copy\n"
     ]
    }
   ],
   "source": [
    "train['label']=-1\n",
    "train['label'][train['digit']==1]=1\n",
    "train = train[(train.digit==1)|(train.digit==5)]\n",
    "test['label']=-1\n",
    "test['label'][test['digit']==1]=1\n",
    "test = test[(test.digit==1)|(test.digit==5)]\n",
    "train,features= add_nonlinear_trans(train,2)\n",
    "test,features = add_nonlinear_trans(test,2)\n",
    "labels = ['label']"
   ]
  },
  {
   "cell_type": "code",
   "execution_count": 18,
   "metadata": {
    "collapsed": false
   },
   "outputs": [
    {
     "name": "stdout",
     "output_type": "stream",
     "text": [
      "label E_in 0.00512491992313\n",
      "label E_out 0.0259433962264\n",
      "label E_in 0.00512491992313\n",
      "label E_out 0.0283018867925\n",
      "label E_in 0.00512491992313\n",
      "label E_out 0.0283018867925\n",
      "label E_in 0.00512491992313\n",
      "label E_out 0.0283018867925\n",
      "label E_in 0.00512491992313\n",
      "label E_out 0.0283018867925\n",
      "label E_in 0.00512491992313\n",
      "label E_out 0.0283018867925\n",
      "label E_in 0.00512491992313\n",
      "label E_out 0.0283018867925\n",
      "label E_in 0.00512491992313\n",
      "label E_out 0.0283018867925\n",
      "label E_in 0.00512491992313\n",
      "label E_out 0.0283018867925\n",
      "label E_in 0.00512491992313\n",
      "label E_out 0.0283018867925\n",
      "label E_in 0.00512491992313\n",
      "label E_out 0.0283018867925\n",
      "label E_in 0.00448430493274\n",
      "label E_out 0.0283018867925\n"
     ]
    }
   ],
   "source": [
    "E_in = []\n",
    "E_out = []\n",
    "r = [1,0.9,0.8,0.7,0.6,0.5,0.4,0.3,0.2,0.1,0.05,0.01]\n",
    "for a in r:\n",
    "    E_in.append(evaluate_Ein(train,features,labels,a))\n",
    "    E_out.append(evaluate_Eout(train,test,features,labels,a))"
   ]
  },
  {
   "cell_type": "code",
   "execution_count": 19,
   "metadata": {
    "collapsed": false
   },
   "outputs": [
    {
     "data": {
      "text/plain": [
       "<matplotlib.legend.Legend at 0xa7a2e10>"
      ]
     },
     "execution_count": 19,
     "metadata": {},
     "output_type": "execute_result"
    },
    {
     "data": {
      "image/png": "[encoded data removed]",
      "text/plain": [
       "<matplotlib.figure.Figure at 0xcc30908>"
      ]
     },
     "metadata": {},
     "output_type": "display_data"
    }
   ],
   "source": [
    "fig = plt.figure(figsize=(5,5))\n",
    "ax = fig.add_subplot(111)\n",
    "Ein = ax.plot(r,E_in,'bs--',label = 'E_in')\n",
    "Eout = ax.plot(r,E_out,'r^--',label = 'E_out')\n",
    "plt.legend(loc='lower right')"
   ]
  },
  {
   "cell_type": "markdown",
   "metadata": {},
   "source": [
    "# Support Vector Machines\n",
    "## Question 11"
   ]
  },
  {
   "cell_type": "code",
   "execution_count": 20,
   "metadata": {
    "collapsed": true
   },
   "outputs": [],
   "source": [
    "x1 = [1,0,-1]\n",
    "x2 = [0,1,-1]\n",
    "x3 = [0,-1,-1]\n",
    "x4 = [-1,0,1]\n",
    "x5 = [0,2,1]\n",
    "x6 = [0,-2,1]\n",
    "x7 = [-2,0,1]"
   ]
  },
  {
   "cell_type": "code",
   "execution_count": 21,
   "metadata": {
    "collapsed": true
   },
   "outputs": [],
   "source": [
    "data = np.matrix([x1,x2,x3,x4,x5,x6,x7])"
   ]
  },
  {
   "cell_type": "code",
   "execution_count": 22,
   "metadata": {
    "collapsed": false
   },
   "outputs": [],
   "source": [
    "data = pd.DataFrame(data,columns=['x1','x2','y'])"
   ]
  },
  {
   "cell_type": "code",
   "execution_count": 23,
   "metadata": {
    "collapsed": false
   },
   "outputs": [],
   "source": [
    "data['z1'] = data['x2']**2 -  2*data['x1'] -1\n",
    "data['z2'] = data['x1']**2 - 2*data['x2'] +1"
   ]
  },
  {
   "cell_type": "code",
   "execution_count": 24,
   "metadata": {
    "collapsed": false
   },
   "outputs": [],
   "source": [
    "z1 = data.z1.values"
   ]
  },
  {
   "cell_type": "code",
   "execution_count": 25,
   "metadata": {
    "collapsed": false
   },
   "outputs": [
    {
     "data": {
      "text/plain": [
       "<matplotlib.axes._subplots.AxesSubplot at 0xcd1ce10>"
      ]
     },
     "execution_count": 25,
     "metadata": {},
     "output_type": "execute_result"
    },
    {
     "data": {
      "image/png": "[encoded data removed]",
      "text/plain": [
       "<matplotlib.figure.Figure at 0xcc4b470>"
      ]
     },
     "metadata": {},
     "output_type": "display_data"
    }
   ],
   "source": [
    "data.plot(x='z1',y='z2',kind = 'scatter',grid=True)"
   ]
  },
  {
   "cell_type": "code",
   "execution_count": 26,
   "metadata": {
    "collapsed": false
   },
   "outputs": [
    {
     "data": {
      "text/plain": [
       "<matplotlib.legend.Legend at 0xd364ef0>"
      ]
     },
     "execution_count": 26,
     "metadata": {},
     "output_type": "execute_result"
    },
    {
     "data": {
      "image/png": "[encoded data removed]",
      "text/plain": [
       "<matplotlib.figure.Figure at 0xcca9cc0>"
      ]
     },
     "metadata": {},
     "output_type": "display_data"
    }
   ],
   "source": [
    "lines = [(-1,1,-0.5),(1,-1,-0.5),(1,0,-0.5),(0,1,-0.5)]\n",
    "fig = plt.figure(figsize=(5,5))\n",
    "ax = fig.add_subplot(111)\n",
    "color = [\"r--\",'b--','g--','y--']\n",
    "for index,line in enumerate(lines):\n",
    "    w1,w2,b = line\n",
    "    z2 = (-b-w1*z1)/w2\n",
    "    line = ax.plot(z1,z2,color[index],label = str(index))\n",
    "ax.plot(data.z1[data.y==1].values,data.z2[data.y==1].values,'g^',label = '+1')\n",
    "ax.plot(data.z1[data.y==-1].values,data.z2[data.y==-1].values,'m^',label = '-1')\n",
    "plt.xlim(-4,4)\n",
    "plt.ylim(-4,6)\n",
    "plt.legend(loc='lower left')"
   ]
  },
  {
   "cell_type": "markdown",
   "metadata": {
    "collapsed": true
   },
   "source": [
    "## Question 12"
   ]
  },
  {
   "cell_type": "code",
   "execution_count": 27,
   "metadata": {
    "collapsed": true
   },
   "outputs": [],
   "source": [
    "from sklearn.svm import SVC"
   ]
  },
  {
   "cell_type": "code",
   "execution_count": 28,
   "metadata": {
    "collapsed": true
   },
   "outputs": [],
   "source": [
    "svm_clf = SVC(C=1.0,kernel='poly',degree=2,gamma=1,coef0=1)"
   ]
  },
  {
   "cell_type": "code",
   "execution_count": 29,
   "metadata": {
    "collapsed": false
   },
   "outputs": [],
   "source": [
    "X = np.matrix(data[['x1','x2']])\n",
    "y = np.matrix(data['y']).T"
   ]
  },
  {
   "cell_type": "code",
   "execution_count": 30,
   "metadata": {
    "collapsed": false
   },
   "outputs": [
    {
     "name": "stderr",
     "output_type": "stream",
     "text": [
      "D:\\Anaconda2\\lib\\site-packages\\sklearn\\utils\\validation.py:526: DataConversionWarning: A column-vector y was passed when a 1d array was expected. Please change the shape of y to (n_samples, ), for example using ravel().\n",
      "  y = column_or_1d(y, warn=True)\n"
     ]
    },
    {
     "data": {
      "text/plain": [
       "SVC(C=1.0, cache_size=200, class_weight=None, coef0=1,\n",
       "  decision_function_shape=None, degree=2, gamma=1, kernel='poly',\n",
       "  max_iter=-1, probability=False, random_state=None, shrinking=True,\n",
       "  tol=0.001, verbose=False)"
      ]
     },
     "execution_count": 30,
     "metadata": {},
     "output_type": "execute_result"
    }
   ],
   "source": [
    "svm_clf.fit(X,y)"
   ]
  },
  {
   "cell_type": "code",
   "execution_count": 31,
   "metadata": {
    "collapsed": false
   },
   "outputs": [
    {
     "data": {
      "text/plain": [
       "5"
      ]
     },
     "execution_count": 31,
     "metadata": {},
     "output_type": "execute_result"
    }
   ],
   "source": [
    "svm_clf.n_support_.sum()"
   ]
  },
  {
   "cell_type": "markdown",
   "metadata": {},
   "source": [
    "# Radial Basis Functions\n",
    "## Question 13 - 18"
   ]
  },
  {
   "cell_type": "markdown",
   "metadata": {},
   "source": [
    "# Bayesian Priors\n",
    "## Question 19  \n",
    "$ p(h=f|D) = \\frac{P(h=f)*p(D|h=f)}{P(D)} $"
   ]
  },
  {
   "cell_type": "markdown",
   "metadata": {},
   "source": [
    "# Aggregation\n",
    "## Question 20  "
   ]
  },
  {
   "cell_type": "markdown",
   "metadata": {},
   "source": [
    "$ E_{out}(g)=[\\frac{g_1(x) + g_2(x)}{2} - f(x)]^2 = \\frac{1}{4}(g_1(x)+g_2(x))^2 - f(x)(g_1(x)+g_2(x)) + f(x)^2$"
   ]
  },
  {
   "cell_type": "markdown",
   "metadata": {},
   "source": [
    "$ \\frac{E_{out}(g_1)+E_{out}(g_2)}{2} = \\frac{1}{2}[(g_1(x)-f(x)^2 + (g_2(x)-f(x))^2] = \\frac{1}{2}[g_1(x)^2 - 2g_1(x)f(x)+f(x)^2+g_2(x)^2-2g_2(x)f(x)+f(x)^2] = \\frac{1}{2}(g_1(x)+g_2(x))^2 - f(x)(g_1(x)+g_2(x)) + f(x)^2$"
   ]
  }
 ],
 "metadata": {
  "anaconda-cloud": {},
  "kernelspec": {
   "display_name": "Python [conda root]",
   "language": "python",
   "name": "conda-root-py"
  },
  "language_info": {
   "codemirror_mode": {
    "name": "ipython",
    "version": 2
   },
   "file_extension": ".py",
   "mimetype": "text/x-python",
   "name": "python",
   "nbconvert_exporter": "python",
   "pygments_lexer": "ipython2",
   "version": "2.7.12"
  }
 },
 "nbformat": 4,
 "nbformat_minor": 1
}
