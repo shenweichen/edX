{
 "cells": [
  {
   "cell_type": "markdown",
   "metadata": {},
   "source": [
    "# Logistic Regression"
   ]
  },
  {
   "cell_type": "code",
   "execution_count": 1,
   "metadata": {
    "collapsed": true
   },
   "outputs": [],
   "source": [
    "import numpy as np\n",
    "import random\n",
    "import math\n",
    "import copy"
   ]
  },
  {
   "cell_type": "code",
   "execution_count": 2,
   "metadata": {
    "collapsed": true
   },
   "outputs": [],
   "source": [
    "def Eout(w,N):\n",
    "    data = np.random.uniform(-1,1,(N,2))\n",
    "    data = np.insert(data,0,values=np.ones(N),axis=1)\n",
    "    label = np.dot(data,WF)\n",
    "    label[label>0] = 1\n",
    "    label[label<=0] = -1\n",
    "    e = sum(map(lambda i :math.log(1+math.exp(-label[i]*np.dot(w,data[i]))),range(0,N)))\n",
    "    return e/N"
   ]
  },
  {
   "cell_type": "code",
   "execution_count": 3,
   "metadata": {
    "collapsed": true
   },
   "outputs": [],
   "source": [
    "def deri(w,i,data,label):\n",
    "    e = (label[i]*data[i]/(1+math.exp(label[i]*np.dot(w,data[i]))))\n",
    "    return -e"
   ]
  },
  {
   "cell_type": "code",
   "execution_count": 4,
   "metadata": {
    "collapsed": true
   },
   "outputs": [],
   "source": [
    "def Logistic_Regression(N):\n",
    "    data = np.random.uniform(-1,1,(N,2))\n",
    "    data = np.insert(data,0,values=np.ones(N),axis=1)\n",
    "    label = np.dot(data,WF)\n",
    "    label[label>0] = 1\n",
    "    label[label<=0] = -1\n",
    "    w = np.array([0,0,0],dtype=np.float)\n",
    "    w_new = copy.copy(w)\n",
    "    w_old = copy.copy(w_new)\n",
    "    seq = range(0,N)\n",
    "    t= 0\n",
    "    while True:\n",
    "        random.shuffle(seq)\n",
    "        w_old = copy.copy(w_new)\n",
    "        for i in seq:\n",
    "            de = deri(w,i,data,label)\n",
    "            w = w - 0.01 * de\n",
    "        w_new = w\n",
    "        t +=1\n",
    "        if math.sqrt(np.square(w_old - w_new).sum()) < 0.01:\n",
    "            #print t\n",
    "            break\n",
    "    return w,t"
   ]
  },
  {
   "cell_type": "markdown",
   "metadata": {},
   "source": [
    "## Question 8,9"
   ]
  },
  {
   "cell_type": "code",
   "execution_count": 5,
   "metadata": {
    "collapsed": false,
    "scrolled": true
   },
   "outputs": [
    {
     "name": "stdout",
     "output_type": "stream",
     "text": [
      "0\n",
      "10\n",
      "20\n",
      "30\n",
      "40\n",
      "50\n",
      "60\n",
      "70\n",
      "80\n",
      "90\n",
      "0.103281472684 343\n"
     ]
    }
   ],
   "source": [
    "total_error=0\n",
    "step=0\n",
    "for i in range(0,100):\n",
    "    if i%10 ==0:\n",
    "        print i\n",
    "    point = np.random.uniform(-1,1,(2,2))\n",
    "    k = (point[0][1] - point[1][1])/(point[0][0] - point[1][0])\n",
    "    b = point[0][1] - k*point[0][0]\n",
    "    WF = np.array([b,k,-1],dtype=np.float)\n",
    "    N= 100\n",
    "    wlin,t=Logistic_Regression(N)\n",
    "    error = Eout(wlin,N)\n",
    "    total_error += error\n",
    "    step+=t\n",
    "print total_error/100,step/100"
   ]
  }
 ],
 "metadata": {
  "anaconda-cloud": {},
  "kernelspec": {
   "display_name": "Python [default]",
   "language": "python",
   "name": "python2"
  },
  "language_info": {
   "codemirror_mode": {
    "name": "ipython",
    "version": 2
   },
   "file_extension": ".py",
   "mimetype": "text/x-python",
   "name": "python",
   "nbconvert_exporter": "python",
   "pygments_lexer": "ipython2",
   "version": "2.7.12"
  }
 },
 "nbformat": 4,
 "nbformat_minor": 1
}
