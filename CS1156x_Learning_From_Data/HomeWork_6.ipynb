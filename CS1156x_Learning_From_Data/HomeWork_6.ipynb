{
 "cells": [
  {
   "cell_type": "code",
   "execution_count": 1,
   "metadata": {
    "collapsed": true
   },
   "outputs": [],
   "source": [
    "import pandas as pd\n",
    "import numpy as np"
   ]
  },
  {
   "cell_type": "markdown",
   "metadata": {},
   "source": [
    "# Regularization with Weight Decay"
   ]
  },
  {
   "cell_type": "code",
   "execution_count": 2,
   "metadata": {
    "collapsed": false
   },
   "outputs": [],
   "source": [
    "train_data = pd.read_csv('in.dta',header=None,names=['x1','x2','y'])\n",
    "test_data = pd.read_csv('out.dta',header=None,names=['x1','x2','y'])"
   ]
  },
  {
   "cell_type": "code",
   "execution_count": 3,
   "metadata": {
    "collapsed": true
   },
   "outputs": [],
   "source": [
    "def split_data(data):\n",
    "    data['1'] = 1\n",
    "    data['x1^2']=data['x1']*data['x1']\n",
    "    data['x2^2']=data['x2']*data['x2']\n",
    "    data['x1x2']=data['x1']*data['x2']\n",
    "    data['|x1-x2|']=abs(data['x1']-data['x2'])\n",
    "    data['|x1+x2|']=abs(data['x1']+data['x2'])\n",
    "    H = pd.DataFrame(data,columns=['1','x1','x2','x1^2','x2^2','x1x2','|x1-x2|','|x1+x2|']).values\n",
    "    label = data['y'].values\n",
    "    return H,label"
   ]
  },
  {
   "cell_type": "code",
   "execution_count": 4,
   "metadata": {
    "collapsed": true
   },
   "outputs": [],
   "source": [
    "def slove_LRegress(X,y):\n",
    "    temp = np.dot(X.T,X)\n",
    "    pseudo_inverse = np.dot(np.linalg.inv(temp),X.T)\n",
    "    wlin = np.dot(pseudo_inverse,y)\n",
    "    return wlin"
   ]
  },
  {
   "cell_type": "code",
   "execution_count": 6,
   "metadata": {
    "collapsed": true
   },
   "outputs": [],
   "source": [
    "def compute_Error(H,label,w):\n",
    "    N = H.shape[0]\n",
    "    predicted = np.ones(N)\n",
    "    predicted[np.dot(H,w)<0]=-1\n",
    "    errors = (predicted!=label).sum()\n",
    "    return errors*1.0/N"
   ]
  },
  {
   "cell_type": "markdown",
   "metadata": {},
   "source": [
    "## Queston 2"
   ]
  },
  {
   "cell_type": "code",
   "execution_count": 7,
   "metadata": {
    "collapsed": true
   },
   "outputs": [],
   "source": [
    "train_H,train_label = split_data(train_data)\n",
    "test_H,test_label = split_data(test_data)"
   ]
  },
  {
   "cell_type": "code",
   "execution_count": 8,
   "metadata": {
    "collapsed": false
   },
   "outputs": [
    {
     "name": "stdout",
     "output_type": "stream",
     "text": [
      "Ein 0.0285714285714\n",
      "Eout 0.084\n"
     ]
    }
   ],
   "source": [
    "wlin = slove_LRegress(train_H,train_label)\n",
    "print 'Ein',compute_Error(train_H,train_label,wlin)\n",
    "print 'Eout',compute_Error(test_H,test_label,wlin)"
   ]
  },
  {
   "cell_type": "markdown",
   "metadata": {},
   "source": [
    "## Question 3"
   ]
  },
  {
   "cell_type": "code",
   "execution_count": 17,
   "metadata": {
    "collapsed": false
   },
   "outputs": [],
   "source": [
    "def slove_LRegress_weightdecay(X,y,k):\n",
    "    feature = X.shape[1]\n",
    "    temp = np.dot(X.T,X)+np.eye(feature)*(10**k)\n",
    "    pseudo_inverse = np.dot(np.linalg.pinv(temp),X.T)\n",
    "    wreg = np.dot(pseudo_inverse,y)\n",
    "    return wreg"
   ]
  },
  {
   "cell_type": "code",
   "execution_count": 18,
   "metadata": {
    "collapsed": false
   },
   "outputs": [
    {
     "name": "stdout",
     "output_type": "stream",
     "text": [
      "Ein 0.0285714285714\n",
      "Eout 0.08\n"
     ]
    }
   ],
   "source": [
    "train_H,train_label = split_data(train_data)\n",
    "test_H,test_label = split_data(test_data)\n",
    "wreg = slove_LRegress_weightdecay(train_H,train_label,-3)\n",
    "print 'Ein',compute_Error(train_H,train_label,wreg)\n",
    "print 'Eout',compute_Error(test_H,test_label,wreg)"
   ]
  },
  {
   "cell_type": "markdown",
   "metadata": {},
   "source": [
    "## Question 4"
   ]
  },
  {
   "cell_type": "code",
   "execution_count": 19,
   "metadata": {
    "collapsed": false
   },
   "outputs": [
    {
     "name": "stdout",
     "output_type": "stream",
     "text": [
      "Ein 0.371428571429\n",
      "Eout 0.436\n"
     ]
    }
   ],
   "source": [
    "wreg = slove_LRegress_weightdecay(train_H,train_label,3)\n",
    "print 'Ein',compute_Error(train_H,train_label,wreg)\n",
    "print 'Eout',compute_Error(test_H,test_label,wreg)"
   ]
  },
  {
   "cell_type": "markdown",
   "metadata": {},
   "source": [
    "## Question 5"
   ]
  },
  {
   "cell_type": "code",
   "execution_count": 21,
   "metadata": {
    "collapsed": false
   },
   "outputs": [
    {
     "name": "stdout",
     "output_type": "stream",
     "text": [
      "-2\n",
      "Ein 0.0285714285714\n",
      "Eout 0.084\n",
      "-1\n",
      "Ein 0.0285714285714\n",
      "Eout 0.056\n",
      "0\n",
      "Ein 0.0\n",
      "Eout 0.092\n",
      "1\n",
      "Ein 0.0571428571429\n",
      "Eout 0.124\n",
      "2\n",
      "Ein 0.2\n",
      "Eout 0.228\n"
     ]
    }
   ],
   "source": [
    "for k in range(-2,3):\n",
    "    wreg = slove_LRegress_weightdecay(train_H,train_label,k)\n",
    "    print k\n",
    "    print 'Ein',compute_Error(train_H,train_label,wreg)\n",
    "    print 'Eout',compute_Error(test_H,test_label,wreg)"
   ]
  },
  {
   "cell_type": "markdown",
   "metadata": {},
   "source": [
    "## Question 6"
   ]
  },
  {
   "cell_type": "code",
   "execution_count": 24,
   "metadata": {
    "collapsed": false
   },
   "outputs": [
    {
     "name": "stdout",
     "output_type": "stream",
     "text": [
      "-1 0.056\n"
     ]
    }
   ],
   "source": [
    "minimum = 1\n",
    "minik = -10\n",
    "for k in range(-10,11):\n",
    "    wreg = slove_LRegress_weightdecay(train_H,train_label,k)\n",
    "    if compute_Error(test_H,test_label,wreg)<minimum:\n",
    "        minimum = compute_Error(test_H,test_label,wreg)\n",
    "        minik = k\n",
    "print minik,minimum"
   ]
  }
 ],
 "metadata": {
  "anaconda-cloud": {},
  "kernelspec": {
   "display_name": "Python [conda root]",
   "language": "python",
   "name": "conda-root-py"
  },
  "language_info": {
   "codemirror_mode": {
    "name": "ipython",
    "version": 2
   },
   "file_extension": ".py",
   "mimetype": "text/x-python",
   "name": "python",
   "nbconvert_exporter": "python",
   "pygments_lexer": "ipython2",
   "version": "2.7.12"
  }
 },
 "nbformat": 4,
 "nbformat_minor": 1
}
