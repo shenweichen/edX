{
 "cells": [
  {
   "cell_type": "code",
   "execution_count": 1,
   "metadata": {
    "collapsed": true
   },
   "outputs": [],
   "source": [
    "import pandas as pd\n",
    "import numpy as np\n",
    "from sklearn import svm"
   ]
  },
  {
   "cell_type": "code",
   "execution_count": 2,
   "metadata": {
    "collapsed": false
   },
   "outputs": [],
   "source": [
    "train = pd.read_csv('features.train',sep='\\s+',names=['digit','intensity','symmetry'])\n",
    "test= pd.read_csv('features.test',sep='\\s+',names=['digit','intensity','symmetry'])"
   ]
  },
  {
   "cell_type": "markdown",
   "metadata": {},
   "source": [
    "# Ploynomial Kernels\n",
    "## Question 2"
   ]
  },
  {
   "cell_type": "code",
   "execution_count": 3,
   "metadata": {
    "collapsed": true
   },
   "outputs": [],
   "source": [
    "def addoneversusall(train_data):\n",
    "    for i in range(0,10):\n",
    "        feature_name = str(i)\n",
    "        train_data[feature_name]=train_data['digit'].apply(lambda x : 1 if x==i else -1)\n",
    "    return train_data"
   ]
  },
  {
   "cell_type": "code",
   "execution_count": 4,
   "metadata": {
    "collapsed": false
   },
   "outputs": [],
   "source": [
    "def evaluate_Ein(train_data,features):\n",
    "    for feature in features:\n",
    "        train_label = train_data[feature]\n",
    "        train_label = np.array(train_label)\n",
    "        data = train_data[['intensity','symmetry']]\n",
    "        data = np.array(data)\n",
    "        clf = svm.SVC(C=0.01,kernel='poly',degree=2)\n",
    "        clf.fit(data,train_label)\n",
    "        print feature,(clf.predict(data)!=train_label).sum()     "
   ]
  },
  {
   "cell_type": "code",
   "execution_count": 5,
   "metadata": {
    "collapsed": false
   },
   "outputs": [
    {
     "name": "stdout",
     "output_type": "stream",
     "text": [
      "0 1194\n",
      "2 731\n",
      "4 652\n",
      "6 664\n",
      "8 542\n"
     ]
    }
   ],
   "source": [
    "train_data = addoneversusall(train)\n",
    "evaluate_Ein(train_data,['0','2','4','6','8'])"
   ]
  },
  {
   "cell_type": "markdown",
   "metadata": {},
   "source": [
    "## Question 3"
   ]
  },
  {
   "cell_type": "code",
   "execution_count": 6,
   "metadata": {
    "collapsed": false
   },
   "outputs": [
    {
     "name": "stdout",
     "output_type": "stream",
     "text": [
      "1 115\n",
      "3 658\n",
      "5 556\n",
      "7 645\n",
      "9 644\n"
     ]
    }
   ],
   "source": [
    "train_data = addoneversusall(train)\n",
    "evaluate_Ein(train_data,['1','3','5','7','9'])"
   ]
  },
  {
   "cell_type": "markdown",
   "metadata": {},
   "source": [
    "## Question 4"
   ]
  },
  {
   "cell_type": "code",
   "execution_count": 7,
   "metadata": {
    "collapsed": false
   },
   "outputs": [
    {
     "name": "stdout",
     "output_type": "stream",
     "text": [
      "2390\n",
      "536\n"
     ]
    }
   ],
   "source": [
    "train_data = addoneversusall(train)\n",
    "features = ['0','1']\n",
    "for feature in features:\n",
    "    train_label = train_data[feature]\n",
    "    train_label = np.array(train_label)\n",
    "    data = train_data[['intensity','symmetry']]\n",
    "    data = np.array(data)\n",
    "    clf = svm.SVC(C=0.01,kernel='poly',degree=2)\n",
    "    clf.fit(data,train_label)\n",
    "    print sum(clf.n_support_)"
   ]
  },
  {
   "cell_type": "markdown",
   "metadata": {},
   "source": [
    "## Question 5"
   ]
  },
  {
   "cell_type": "code",
   "execution_count": 8,
   "metadata": {
    "collapsed": false
   },
   "outputs": [],
   "source": [
    "test_data = test\n",
    "test_data['1_5'] = 0\n",
    "test_data['1_5'] =test_data['digit'].map({1:1,5:-1})\n",
    "sub_test = test_data.dropna()"
   ]
  },
  {
   "cell_type": "code",
   "execution_count": 9,
   "metadata": {
    "collapsed": false,
    "scrolled": true
   },
   "outputs": [],
   "source": [
    "train_data['1_5'] = 0\n",
    "train_data['1_5'] =train_data['digit'].map({1:1,5:-1})\n",
    "sub_data = train_data.dropna()"
   ]
  },
  {
   "cell_type": "code",
   "execution_count": 10,
   "metadata": {
    "collapsed": false
   },
   "outputs": [
    {
     "name": "stdout",
     "output_type": "stream",
     "text": [
      "0.001 152 Ein 11\n",
      "0.01 54 Ein 7\n",
      "0.1 28 Ein 7\n",
      "1 25 Ein 7\n"
     ]
    }
   ],
   "source": [
    "for c in [0.001,0.01,0.1,1]:\n",
    "    train_label = sub_data['1_5']\n",
    "    train_label = np.array(train_label)\n",
    "    data = sub_data[['intensity','symmetry']]\n",
    "    data = np.array(data)\n",
    "    clf = svm.SVC(C=c,kernel='poly',degree=2)\n",
    "    clf.fit(data,train_label)\n",
    "    print c,sum(clf.n_support_),'Ein',(clf.predict(data)!=train_label).sum() "
   ]
  },
  {
   "cell_type": "markdown",
   "metadata": {},
   "source": [
    "## Question 6"
   ]
  },
  {
   "cell_type": "code",
   "execution_count": 11,
   "metadata": {
    "collapsed": false
   },
   "outputs": [
    {
     "name": "stdout",
     "output_type": "stream",
     "text": [
      "0.0001 2 510 Ein 35\n",
      "0.0001 5 42 Ein 10\n",
      "0.001 2 152 Ein 11\n",
      "0.001 5 28 Ein 8\n",
      "0.01 2 54 Ein 7\n",
      "0.01 5 26 Ein 7\n",
      "1 2 25 Ein 7\n",
      "1 5 26 Ein 7\n",
      "1 2 25 Eout 8\n",
      "1 5 26 Eout 7\n"
     ]
    }
   ],
   "source": [
    "for c in [0.0001,0.001,0.01,1]:\n",
    "    for q in [2,5]:\n",
    "        train_label = sub_data['1_5']\n",
    "        train_label = np.array(train_label)\n",
    "        data = sub_data[['intensity','symmetry']]\n",
    "        data = np.array(data)\n",
    "        clf = svm.SVC(C=c,kernel='poly',degree=q)\n",
    "        clf.fit(data,train_label)\n",
    "        print c,q,sum(clf.n_support_),'Ein',(clf.predict(data)!=train_label).sum()\n",
    "for q in [2,5]:\n",
    "    train_label = sub_data['1_5']\n",
    "    train_label = np.array(train_label)\n",
    "    test_label = sub_test['1_5']\n",
    "    test_label = np.array(test_label)\n",
    "    data = sub_data[['intensity','symmetry']]\n",
    "    data = np.array(data)\n",
    "    test_data = sub_test[['intensity','symmetry']]\n",
    "    test_data = np.array(test_data)\n",
    "    clf = svm.SVC(C=1,kernel='poly',degree=q)\n",
    "    clf.fit(data,train_label)\n",
    "    print c,q,sum(clf.n_support_),'Eout',(clf.predict(test_data)!=test_label).sum()"
   ]
  },
  {
   "cell_type": "markdown",
   "metadata": {},
   "source": [
    "# Cross Validation\n",
    "## Question 7"
   ]
  },
  {
   "cell_type": "code",
   "execution_count": 12,
   "metadata": {
    "collapsed": true
   },
   "outputs": [],
   "source": [
    "from sklearn.model_selection import cross_val_score\n",
    "train_data['1_5'] = 0\n",
    "train_data['1_5'] =train_data['digit'].map({1:1,5:-1})\n",
    "sub_data = train_data.dropna()"
   ]
  },
  {
   "cell_type": "code",
   "execution_count": 13,
   "metadata": {
    "collapsed": false
   },
   "outputs": [
    {
     "name": "stdout",
     "output_type": "stream",
     "text": [
      "0.0001 0.0184950823082\n",
      "0.001 0.00594073893781\n",
      "0.01 0.00348756218905\n",
      "0.1 0.00348756218905\n",
      "1 0.00399007475187\n"
     ]
    }
   ],
   "source": [
    "for c in [0.0001,0.001,0.01,0.1,1]:\n",
    "    train_label = sub_data['1_5']\n",
    "    train_label = np.array(train_label)\n",
    "    data = sub_data[['intensity','symmetry']]\n",
    "    data = np.array(data)\n",
    "    clf = svm.SVC(C=c,kernel='poly',degree=2)\n",
    "    scores = cross_val_score(clf,data,train_label,cv=10,scoring='f1')\n",
    "    print c,1 - scores.mean()"
   ]
  },
  {
   "cell_type": "markdown",
   "metadata": {},
   "source": [
    "# RBF Kernel\n",
    "## Question 9,10"
   ]
  },
  {
   "cell_type": "code",
   "execution_count": 14,
   "metadata": {
    "collapsed": false
   },
   "outputs": [
    {
     "name": "stdout",
     "output_type": "stream",
     "text": [
      "0.01 Ein 6 Eout 9\n",
      "1 Ein 7 Eout 9\n",
      "100 Ein 5 Eout 8\n",
      "10000.0 Ein 4 Eout 8\n",
      "1000000.0 Ein 2 Eout 9\n"
     ]
    }
   ],
   "source": [
    "for c in [0.01,1,100,1e4,1e6]:\n",
    "    train_label = sub_data['1_5']\n",
    "    train_label = np.array(train_label)\n",
    "    test_label = sub_test['1_5']\n",
    "    test_label = np.array(test_label)\n",
    "    data = sub_data[['intensity','symmetry']]\n",
    "    data = np.array(data)\n",
    "    test_data = sub_test[['intensity','symmetry']]\n",
    "    test_data = np.array(test_data)\n",
    "    clf = svm.SVC(C=c,kernel='rbf')\n",
    "    clf.fit(data,train_label)\n",
    "    print c,'Ein',(clf.predict(data)!=train_label).sum(),'Eout',(clf.predict(test_data)!=test_label).sum()"
   ]
  }
 ],
 "metadata": {
  "anaconda-cloud": {},
  "kernelspec": {
   "display_name": "Python [conda root]",
   "language": "python",
   "name": "conda-root-py"
  },
  "language_info": {
   "codemirror_mode": {
    "name": "ipython",
    "version": 2
   },
   "file_extension": ".py",
   "mimetype": "text/x-python",
   "name": "python",
   "nbconvert_exporter": "python",
   "pygments_lexer": "ipython2",
   "version": "2.7.12"
  }
 },
 "nbformat": 4,
 "nbformat_minor": 1
}
