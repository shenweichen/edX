{
 "cells": [
  {
   "cell_type": "code",
   "execution_count": 1,
   "metadata": {
    "collapsed": true
   },
   "outputs": [],
   "source": [
    "import pandas as pd\n",
    "import numpy as np"
   ]
  },
  {
   "cell_type": "markdown",
   "metadata": {},
   "source": [
    "# Validation"
   ]
  },
  {
   "cell_type": "code",
   "execution_count": 2,
   "metadata": {
    "collapsed": true
   },
   "outputs": [],
   "source": [
    "train_data = pd.read_csv('in.dta',header=None,names=['x1','x2','y'])\n",
    "test_data = pd.read_csv('out.dta',header=None,names=['x1','x2','y'])"
   ]
  },
  {
   "cell_type": "code",
   "execution_count": 3,
   "metadata": {
    "collapsed": true
   },
   "outputs": [],
   "source": [
    "def split_data(data,k):\n",
    "    column_names = ['1','x1','x2']\n",
    "    data['1'] = 1\n",
    "    if k >= 3:\n",
    "        data['x1^2']=data['x1']*data['x1']\n",
    "        column_names.append('x1^2')\n",
    "    if k >= 4:\n",
    "        data['x2^2']=data['x2']*data['x2']\n",
    "        column_names.append('x2^2')\n",
    "    if k >= 5:\n",
    "        data['x1x2']=data['x1']*data['x2']\n",
    "        column_names.append('x1x2')\n",
    "    if k >= 6:\n",
    "        data['|x1-x2|']=abs(data['x1']-data['x2'])\n",
    "        column_names.append('|x1-x2|')\n",
    "    if k >= 7:\n",
    "        data['|x1+x2|']=abs(data['x1']+data['x2'])\n",
    "        column_names.append('|x1+x2|')\n",
    "    H = pd.DataFrame(data,columns=column_names).values\n",
    "    label = data['y'].values\n",
    "    return H,label"
   ]
  },
  {
   "cell_type": "code",
   "execution_count": 4,
   "metadata": {
    "collapsed": false
   },
   "outputs": [],
   "source": [
    "def split_train_val(data,k):\n",
    "    column_names = ['1','x1','x2']\n",
    "    data['1'] = 1\n",
    "    if k >= 3:\n",
    "        data['x1^2']=data['x1']*data['x1']\n",
    "        column_names.append('x1^2')\n",
    "    if k >= 4:\n",
    "        data['x2^2']=data['x2']*data['x2']\n",
    "        column_names.append('x2^2')\n",
    "    if k >= 5:\n",
    "        data['x1x2']=data['x1']*data['x2']\n",
    "        column_names.append('x1x2')\n",
    "    if k >= 6:\n",
    "        data['|x1-x2|']=abs(data['x1']-data['x2'])\n",
    "        column_names.append('|x1-x2|')\n",
    "    if k >= 7:\n",
    "        data['|x1+x2|']=abs(data['x1']+data['x2'])\n",
    "        column_names.append('|x1+x2|')\n",
    "    H = pd.DataFrame(data,columns=column_names).values\n",
    "    label = data['y'].values\n",
    "    trainH = H[:25]\n",
    "    trainlabel = label[:25]\n",
    "    valH = H[25:]\n",
    "    vallabel = label[25:]\n",
    "    return trainH,trainlabel,valH,vallabel"
   ]
  },
  {
   "cell_type": "code",
   "execution_count": 5,
   "metadata": {
    "collapsed": true
   },
   "outputs": [],
   "source": [
    "def slove_LRegress(X,y):\n",
    "    temp = np.dot(X.T,X)\n",
    "    pseudo_inverse = np.dot(np.linalg.inv(temp),X.T)\n",
    "    wlin = np.dot(pseudo_inverse,y)\n",
    "    return wlin"
   ]
  },
  {
   "cell_type": "code",
   "execution_count": 6,
   "metadata": {
    "collapsed": true
   },
   "outputs": [],
   "source": [
    "def compute_Error(H,label,w):\n",
    "    N = H.shape[0]\n",
    "    predicted = np.ones(N)\n",
    "    predicted[np.dot(H,w)<0]=-1\n",
    "    errors = (predicted!=label).sum()\n",
    "    return errors*1.0/N"
   ]
  },
  {
   "cell_type": "code",
   "execution_count": 7,
   "metadata": {
    "collapsed": false
   },
   "outputs": [],
   "source": [
    "train_H,train_label,val_H,val_labe = split_train_val(train_data,3)\n",
    "#test_H,test_label = split_data(test_data)"
   ]
  },
  {
   "cell_type": "markdown",
   "metadata": {},
   "source": [
    "## Question 1"
   ]
  },
  {
   "cell_type": "code",
   "execution_count": 8,
   "metadata": {
    "collapsed": false
   },
   "outputs": [
    {
     "name": "stdout",
     "output_type": "stream",
     "text": [
      "E_val 3 0.3\n",
      "E_val 4 0.5\n",
      "E_val 5 0.2\n",
      "E_val 6 0.0\n",
      "E_val 7 0.1\n",
      "smallest_k 6\n"
     ]
    }
   ],
   "source": [
    "val_error = 1\n",
    "small_k=3\n",
    "for k in range(3,8):\n",
    "    train_H,train_label,val_H,val_label = split_train_val(train_data,k)\n",
    "    wlin = slove_LRegress(train_H,train_label)\n",
    "    error = compute_Error(val_H,val_label,wlin)\n",
    "    if error < val_error:\n",
    "        val_error = error\n",
    "        small_k = k\n",
    "    print 'E_val',k,error\n",
    "print 'smallest_k',small_k"
   ]
  },
  {
   "cell_type": "markdown",
   "metadata": {},
   "source": [
    "## Question 2"
   ]
  },
  {
   "cell_type": "code",
   "execution_count": 9,
   "metadata": {
    "collapsed": false
   },
   "outputs": [
    {
     "name": "stdout",
     "output_type": "stream",
     "text": [
      "E_val 3 0.42\n",
      "E_val 4 0.416\n",
      "E_val 5 0.188\n",
      "E_val 6 0.084\n",
      "E_val 7 0.072\n",
      "smallest_k 7\n"
     ]
    }
   ],
   "source": [
    "val_error = 1\n",
    "small_k=3\n",
    "for k in range(3,8):\n",
    "    train_H,train_label,val_H,val_label = split_train_val(train_data,k)\n",
    "    #train_H,train_label = split_data(train_data,k)\n",
    "    test_H,test_label = split_data(test_data,k)\n",
    "    wlin = slove_LRegress(train_H,train_label)\n",
    "    error = compute_Error(test_H,test_label,wlin)\n",
    "    if error < val_error:\n",
    "        val_error = error\n",
    "        small_k = k\n",
    "    print 'E_val',k,error\n",
    "print 'smallest_k',small_k"
   ]
  },
  {
   "cell_type": "markdown",
   "metadata": {},
   "source": [
    "## Question 3"
   ]
  },
  {
   "cell_type": "code",
   "execution_count": 10,
   "metadata": {
    "collapsed": false
   },
   "outputs": [
    {
     "name": "stdout",
     "output_type": "stream",
     "text": [
      "E_val 3 0.28\n",
      "E_val 4 0.36\n",
      "E_val 5 0.2\n",
      "E_val 6 0.08\n",
      "E_val 7 0.12\n",
      "smallest_k 6\n"
     ]
    }
   ],
   "source": [
    "val_error = 1\n",
    "small_k=3\n",
    "for k in range(3,8):\n",
    "    train_H,train_label,val_H,val_label = split_train_val(train_data,k)\n",
    "    wlin = slove_LRegress(val_H,val_label)\n",
    "    error = compute_Error(train_H,train_label,wlin)\n",
    "    if error < val_error:\n",
    "        val_error = error\n",
    "        small_k = k\n",
    "    print 'E_val',k,error\n",
    "print 'smallest_k',small_k"
   ]
  },
  {
   "cell_type": "markdown",
   "metadata": {},
   "source": [
    "## Question 4"
   ]
  },
  {
   "cell_type": "code",
   "execution_count": 11,
   "metadata": {
    "collapsed": false
   },
   "outputs": [
    {
     "name": "stdout",
     "output_type": "stream",
     "text": [
      "E_val 3 0.396\n",
      "E_val 4 0.388\n",
      "E_val 5 0.284\n",
      "E_val 6 0.192\n",
      "E_val 7 0.196\n",
      "smallest_k 6\n"
     ]
    }
   ],
   "source": [
    "val_error = 1\n",
    "small_k=3\n",
    "for k in range(3,8):\n",
    "    train_H,train_label,val_H,val_label = split_train_val(train_data,k)\n",
    "    test_H,test_label = split_data(test_data,k)\n",
    "    wlin = slove_LRegress(val_H,val_label)\n",
    "    error = compute_Error(test_H,test_label,wlin)\n",
    "    if error < val_error:\n",
    "        val_error = error\n",
    "        small_k = k\n",
    "    print 'E_val',k,error\n",
    "print 'smallest_k',small_k"
   ]
  },
  {
   "cell_type": "markdown",
   "metadata": {},
   "source": [
    "# PLA vs. SVM"
   ]
  },
  {
   "cell_type": "code",
   "execution_count": 12,
   "metadata": {
    "collapsed": true
   },
   "outputs": [],
   "source": [
    "def sign(x,w):\n",
    "    \"\"\"\n",
    "    x should be a np.array of shape(3L,)\n",
    "    \"\"\"\n",
    "    inproduct = np.dot(w,x) \n",
    "    if inproduct > 0:\n",
    "        return 1\n",
    "    elif inproduct < 0:\n",
    "        return -1\n",
    "    else:\n",
    "        return 0"
   ]
  },
  {
   "cell_type": "code",
   "execution_count": 13,
   "metadata": {
    "collapsed": true
   },
   "outputs": [],
   "source": [
    "def checkmistakes(data,label,WPLA):\n",
    "    numofdata = data.shape[0]\n",
    "    for i in range(numofdata):\n",
    "        if sign(data[i],WPLA) != label[i]:\n",
    "            return False\n",
    "    return True"
   ]
  },
  {
   "cell_type": "code",
   "execution_count": 14,
   "metadata": {
    "collapsed": true
   },
   "outputs": [],
   "source": [
    "def PLA(data,label,WPLA):    \n",
    "    #初始化WPLA\n",
    "    numofdata = data.shape[0]\n",
    "    t = 0\n",
    "    while True:\n",
    "        for i in range(numofdata):\n",
    "            if sign(data[i],WPLA) != label[i]:\n",
    "                t+=1\n",
    "                WPLA += label[i]*data[i]\n",
    "        if checkmistakes(data,label,WPLA):\n",
    "            return WPLA"
   ]
  },
  {
   "cell_type": "code",
   "execution_count": 15,
   "metadata": {
    "collapsed": true
   },
   "outputs": [],
   "source": [
    "def line(x,w):\n",
    "    return (-w[0]-w[1]*x)/w[2]"
   ]
  },
  {
   "cell_type": "code",
   "execution_count": 16,
   "metadata": {
    "collapsed": true
   },
   "outputs": [],
   "source": [
    "def exp(N):\n",
    "    data = np.random.uniform(-1, 1, (N, 2))\n",
    "    data = np.insert(data,0,values = np.ones(N),axis=1)\n",
    "    #随机生成10个长度为3的数组\n",
    "    point = np.random.uniform(-1,1,(2,2))\n",
    "    k = (point[0][1] - point[1][1])/(point[0][0] - point[1][0])\n",
    "    b = point[0][1] - k*point[0][0]\n",
    "    WF = np.array([b,k,-1],dtype=np.float)\n",
    "    #随机生成一条直线\n",
    "    label =  np.int32(np.dot(data,WF)>0)\n",
    "    label[label==0]=-1\n",
    "    \n",
    "    WPLA = np.zeros(3)\n",
    "    return PLA(data,label,WPLA),WF\n"
   ]
  },
  {
   "cell_type": "code",
   "execution_count": 17,
   "metadata": {
    "collapsed": false
   },
   "outputs": [
    {
     "data": {
      "text/plain": [
       "(array([ 0.        , -0.8235475 , -0.22121746]),\n",
       " array([ 0.00539658, -2.24907807, -1.        ]))"
      ]
     },
     "execution_count": 17,
     "metadata": {},
     "output_type": "execute_result"
    }
   ],
   "source": [
    "exp(10)"
   ]
  },
  {
   "cell_type": "code",
   "execution_count": 18,
   "metadata": {
    "collapsed": false
   },
   "outputs": [],
   "source": [
    "N=10\n",
    "data = np.random.uniform(-1, 1, (N, 2))\n",
    "data = np.insert(data,0,values = np.ones(N),axis=1)\n",
    "#随机生成10个长度为3的数组\n",
    "point = np.random.uniform(-1,1,(2,2))\n",
    "k = (point[0][1] - point[1][1])/(point[0][0] - point[1][0])\n",
    "b = point[0][1] - k*point[0][0]\n",
    "WF = np.array([b,k,-1],dtype=np.float)"
   ]
  },
  {
   "cell_type": "code",
   "execution_count": 19,
   "metadata": {
    "collapsed": false
   },
   "outputs": [
    {
     "data": {
      "text/plain": [
       "array([-0.85308109,  0.08177847, -1.        ])"
      ]
     },
     "execution_count": 19,
     "metadata": {},
     "output_type": "execute_result"
    }
   ],
   "source": [
    "WF"
   ]
  },
  {
   "cell_type": "code",
   "execution_count": 20,
   "metadata": {
    "collapsed": true
   },
   "outputs": [],
   "source": [
    "data = np.random.uniform(-1, 1, (N, 2))\n",
    "data = np.insert(data,0,values = np.ones(N),axis=1)\n",
    "#随机生成10个长度为3的数组\n",
    "point = np.random.uniform(-1,1,(2,2))\n",
    "k = (point[0][1] - point[1][1])/(point[0][0] - point[1][0])\n",
    "b = point[0][1] - k*point[0][0]\n",
    "WF = np.array([b,k,-1],dtype=np.float)\n",
    "#随机生成一条直线\n",
    "label =  np.int32(np.dot(data,WF)>0)\n",
    "label[label==0]=-1"
   ]
  },
  {
   "cell_type": "code",
   "execution_count": 21,
   "metadata": {
    "collapsed": false
   },
   "outputs": [
    {
     "data": {
      "text/plain": [
       "array([[ 1.        ,  0.6977079 ,  0.14061963],\n",
       "       [ 1.        ,  0.02505007,  0.11774707],\n",
       "       [ 1.        ,  0.65190357,  0.35875293],\n",
       "       [ 1.        , -0.0742589 ,  0.90712994],\n",
       "       [ 1.        ,  0.5970423 ,  0.71720045],\n",
       "       [ 1.        , -0.31168016,  0.00894931],\n",
       "       [ 1.        , -0.87059549, -0.66645882],\n",
       "       [ 1.        , -0.18492123,  0.31585057],\n",
       "       [ 1.        ,  0.6292421 , -0.16421078],\n",
       "       [ 1.        , -0.19456269, -0.66183499]])"
      ]
     },
     "execution_count": 21,
     "metadata": {},
     "output_type": "execute_result"
    }
   ],
   "source": [
    "data"
   ]
  }
 ],
 "metadata": {
  "anaconda-cloud": {},
  "kernelspec": {
   "display_name": "Python [conda root]",
   "language": "python",
   "name": "conda-root-py"
  },
  "language_info": {
   "codemirror_mode": {
    "name": "ipython",
    "version": 2
   },
   "file_extension": ".py",
   "mimetype": "text/x-python",
   "name": "python",
   "nbconvert_exporter": "python",
   "pygments_lexer": "ipython2",
   "version": "2.7.12"
  }
 },
 "nbformat": 4,
 "nbformat_minor": 1
}
